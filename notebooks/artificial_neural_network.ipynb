{
 "cells": [
  {
   "cell_type": "code",
   "execution_count": 1,
   "metadata": {},
   "outputs": [],
   "source": [
    "import numpy as np\n",
    "import pandas as pd"
   ]
  },
  {
   "cell_type": "code",
   "execution_count": 2,
   "metadata": {},
   "outputs": [
    {
     "data": {
      "text/html": [
       "<div>\n",
       "<style scoped>\n",
       "    .dataframe tbody tr th:only-of-type {\n",
       "        vertical-align: middle;\n",
       "    }\n",
       "\n",
       "    .dataframe tbody tr th {\n",
       "        vertical-align: top;\n",
       "    }\n",
       "\n",
       "    .dataframe thead th {\n",
       "        text-align: right;\n",
       "    }\n",
       "</style>\n",
       "<table border=\"1\" class=\"dataframe\">\n",
       "  <thead>\n",
       "    <tr style=\"text-align: right;\">\n",
       "      <th></th>\n",
       "      <th>RowNumber</th>\n",
       "      <th>CustomerId</th>\n",
       "      <th>Surname</th>\n",
       "      <th>CreditScore</th>\n",
       "      <th>Geography</th>\n",
       "      <th>Gender</th>\n",
       "      <th>Age</th>\n",
       "      <th>Tenure</th>\n",
       "      <th>Balance</th>\n",
       "      <th>NumOfProducts</th>\n",
       "      <th>HasCrCard</th>\n",
       "      <th>IsActiveMember</th>\n",
       "      <th>EstimatedSalary</th>\n",
       "      <th>Exited</th>\n",
       "    </tr>\n",
       "  </thead>\n",
       "  <tbody>\n",
       "    <tr>\n",
       "      <th>0</th>\n",
       "      <td>1</td>\n",
       "      <td>15634602</td>\n",
       "      <td>Hargrave</td>\n",
       "      <td>619</td>\n",
       "      <td>France</td>\n",
       "      <td>Female</td>\n",
       "      <td>42</td>\n",
       "      <td>2</td>\n",
       "      <td>0.00</td>\n",
       "      <td>1</td>\n",
       "      <td>1</td>\n",
       "      <td>1</td>\n",
       "      <td>101348.88</td>\n",
       "      <td>1</td>\n",
       "    </tr>\n",
       "    <tr>\n",
       "      <th>1</th>\n",
       "      <td>2</td>\n",
       "      <td>15647311</td>\n",
       "      <td>Hill</td>\n",
       "      <td>608</td>\n",
       "      <td>Spain</td>\n",
       "      <td>Female</td>\n",
       "      <td>41</td>\n",
       "      <td>1</td>\n",
       "      <td>83807.86</td>\n",
       "      <td>1</td>\n",
       "      <td>0</td>\n",
       "      <td>1</td>\n",
       "      <td>112542.58</td>\n",
       "      <td>0</td>\n",
       "    </tr>\n",
       "    <tr>\n",
       "      <th>2</th>\n",
       "      <td>3</td>\n",
       "      <td>15619304</td>\n",
       "      <td>Onio</td>\n",
       "      <td>502</td>\n",
       "      <td>France</td>\n",
       "      <td>Female</td>\n",
       "      <td>42</td>\n",
       "      <td>8</td>\n",
       "      <td>159660.80</td>\n",
       "      <td>3</td>\n",
       "      <td>1</td>\n",
       "      <td>0</td>\n",
       "      <td>113931.57</td>\n",
       "      <td>1</td>\n",
       "    </tr>\n",
       "    <tr>\n",
       "      <th>3</th>\n",
       "      <td>4</td>\n",
       "      <td>15701354</td>\n",
       "      <td>Boni</td>\n",
       "      <td>699</td>\n",
       "      <td>France</td>\n",
       "      <td>Female</td>\n",
       "      <td>39</td>\n",
       "      <td>1</td>\n",
       "      <td>0.00</td>\n",
       "      <td>2</td>\n",
       "      <td>0</td>\n",
       "      <td>0</td>\n",
       "      <td>93826.63</td>\n",
       "      <td>0</td>\n",
       "    </tr>\n",
       "    <tr>\n",
       "      <th>4</th>\n",
       "      <td>5</td>\n",
       "      <td>15737888</td>\n",
       "      <td>Mitchell</td>\n",
       "      <td>850</td>\n",
       "      <td>Spain</td>\n",
       "      <td>Female</td>\n",
       "      <td>43</td>\n",
       "      <td>2</td>\n",
       "      <td>125510.82</td>\n",
       "      <td>1</td>\n",
       "      <td>1</td>\n",
       "      <td>1</td>\n",
       "      <td>79084.10</td>\n",
       "      <td>0</td>\n",
       "    </tr>\n",
       "  </tbody>\n",
       "</table>\n",
       "</div>"
      ],
      "text/plain": [
       "   RowNumber  CustomerId   Surname  CreditScore Geography  Gender  Age  \\\n",
       "0          1    15634602  Hargrave          619    France  Female   42   \n",
       "1          2    15647311      Hill          608     Spain  Female   41   \n",
       "2          3    15619304      Onio          502    France  Female   42   \n",
       "3          4    15701354      Boni          699    France  Female   39   \n",
       "4          5    15737888  Mitchell          850     Spain  Female   43   \n",
       "\n",
       "   Tenure    Balance  NumOfProducts  HasCrCard  IsActiveMember  \\\n",
       "0       2       0.00              1          1               1   \n",
       "1       1   83807.86              1          0               1   \n",
       "2       8  159660.80              3          1               0   \n",
       "3       1       0.00              2          0               0   \n",
       "4       2  125510.82              1          1               1   \n",
       "\n",
       "   EstimatedSalary  Exited  \n",
       "0        101348.88       1  \n",
       "1        112542.58       0  \n",
       "2        113931.57       1  \n",
       "3         93826.63       0  \n",
       "4         79084.10       0  "
      ]
     },
     "execution_count": 2,
     "metadata": {},
     "output_type": "execute_result"
    }
   ],
   "source": [
    "df = pd.read_csv(\"data/Churn_Modelling.csv\")\n",
    "df.head()"
   ]
  },
  {
   "cell_type": "code",
   "execution_count": 3,
   "metadata": {},
   "outputs": [],
   "source": [
    "X = df.iloc[:,3:-1].values\n",
    "y = df.iloc[:,-1].values"
   ]
  },
  {
   "cell_type": "code",
   "execution_count": 4,
   "metadata": {},
   "outputs": [
    {
     "name": "stdout",
     "output_type": "stream",
     "text": [
      "[[619 'France' 'Female' ... 1 1 101348.88]\n",
      " [608 'Spain' 'Female' ... 0 1 112542.58]\n",
      " [502 'France' 'Female' ... 1 0 113931.57]\n",
      " ...\n",
      " [709 'France' 'Female' ... 0 1 42085.58]\n",
      " [772 'Germany' 'Male' ... 1 0 92888.52]\n",
      " [792 'France' 'Female' ... 1 0 38190.78]]\n"
     ]
    }
   ],
   "source": [
    "print(X)"
   ]
  },
  {
   "cell_type": "code",
   "execution_count": 5,
   "metadata": {},
   "outputs": [],
   "source": [
    "from sklearn.preprocessing import LabelEncoder"
   ]
  },
  {
   "cell_type": "code",
   "execution_count": 6,
   "metadata": {},
   "outputs": [],
   "source": [
    "le = LabelEncoder()\n",
    "X[:,2] = le.fit_transform(X[:,2])"
   ]
  },
  {
   "cell_type": "code",
   "execution_count": 7,
   "metadata": {},
   "outputs": [
    {
     "name": "stdout",
     "output_type": "stream",
     "text": [
      "[[619 'France' 0 ... 1 1 101348.88]\n",
      " [608 'Spain' 0 ... 0 1 112542.58]\n",
      " [502 'France' 0 ... 1 0 113931.57]\n",
      " ...\n",
      " [709 'France' 0 ... 0 1 42085.58]\n",
      " [772 'Germany' 1 ... 1 0 92888.52]\n",
      " [792 'France' 0 ... 1 0 38190.78]]\n"
     ]
    }
   ],
   "source": [
    "print(X)"
   ]
  },
  {
   "cell_type": "code",
   "execution_count": 8,
   "metadata": {},
   "outputs": [],
   "source": [
    "from sklearn.compose import ColumnTransformer\n",
    "from sklearn.preprocessing import OneHotEncoder"
   ]
  },
  {
   "cell_type": "code",
   "execution_count": 9,
   "metadata": {},
   "outputs": [],
   "source": [
    "ct = ColumnTransformer(transformers=[('encoder', OneHotEncoder(), [1])], remainder='passthrough')\n",
    "X = np.array(ct.fit_transform(X))"
   ]
  },
  {
   "cell_type": "code",
   "execution_count": 10,
   "metadata": {},
   "outputs": [
    {
     "name": "stdout",
     "output_type": "stream",
     "text": [
      "[[1.0 0.0 0.0 ... 1 1 101348.88]\n",
      " [0.0 0.0 1.0 ... 0 1 112542.58]\n",
      " [1.0 0.0 0.0 ... 1 0 113931.57]\n",
      " ...\n",
      " [1.0 0.0 0.0 ... 0 1 42085.58]\n",
      " [0.0 1.0 0.0 ... 1 0 92888.52]\n",
      " [1.0 0.0 0.0 ... 1 0 38190.78]]\n"
     ]
    }
   ],
   "source": [
    "print(X)"
   ]
  },
  {
   "cell_type": "code",
   "execution_count": 11,
   "metadata": {},
   "outputs": [],
   "source": [
    "from sklearn.model_selection import train_test_split"
   ]
  },
  {
   "cell_type": "code",
   "execution_count": 12,
   "metadata": {},
   "outputs": [],
   "source": [
    "X_train, X_test, y_train, y_test = train_test_split(X, y, test_size=0.2, random_state=0)"
   ]
  },
  {
   "cell_type": "code",
   "execution_count": 13,
   "metadata": {},
   "outputs": [],
   "source": [
    "from sklearn.preprocessing import StandardScaler"
   ]
  },
  {
   "cell_type": "code",
   "execution_count": 14,
   "metadata": {},
   "outputs": [],
   "source": [
    "sc = StandardScaler()\n",
    "X_train_scaled = sc.fit_transform(X_train)\n",
    "X_test_scaled = sc.transform(X_test)"
   ]
  },
  {
   "cell_type": "code",
   "execution_count": 15,
   "metadata": {},
   "outputs": [],
   "source": [
    "from keras.models import Sequential\n",
    "from keras.layers import Dense"
   ]
  },
  {
   "cell_type": "code",
   "execution_count": 16,
   "metadata": {},
   "outputs": [],
   "source": [
    "ann = Sequential()\n",
    "ann.add(Dense(units=32, activation='relu'))\n",
    "ann.add(Dense(units=32, activation='relu'))\n",
    "ann.add(Dense(units=1, activation='sigmoid'))"
   ]
  },
  {
   "cell_type": "code",
   "execution_count": 17,
   "metadata": {},
   "outputs": [],
   "source": [
    "ann.compile(optimizer='adam', loss='binary_crossentropy', metrics=['accuracy'])"
   ]
  },
  {
   "cell_type": "code",
   "execution_count": 18,
   "metadata": {},
   "outputs": [
    {
     "name": "stdout",
     "output_type": "stream",
     "text": [
      "Epoch 1/50\n",
      "250/250 [==============================] - 1s 890us/step - loss: 0.5242 - accuracy: 0.7768\n",
      "Epoch 2/50\n",
      "250/250 [==============================] - 0s 771us/step - loss: 0.4297 - accuracy: 0.8113\n",
      "Epoch 3/50\n",
      "250/250 [==============================] - 0s 801us/step - loss: 0.3974 - accuracy: 0.8310\n",
      "Epoch 4/50\n",
      "250/250 [==============================] - 0s 912us/step - loss: 0.3677 - accuracy: 0.8433\n",
      "Epoch 5/50\n",
      "250/250 [==============================] - 0s 731us/step - loss: 0.3624 - accuracy: 0.8518\n",
      "Epoch 6/50\n",
      "250/250 [==============================] - 0s 791us/step - loss: 0.3556 - accuracy: 0.8533\n",
      "Epoch 7/50\n",
      "250/250 [==============================] - 0s 747us/step - loss: 0.3483 - accuracy: 0.8556\n",
      "Epoch 8/50\n",
      "250/250 [==============================] - 0s 691us/step - loss: 0.3321 - accuracy: 0.8659\n",
      "Epoch 9/50\n",
      "250/250 [==============================] - 0s 719us/step - loss: 0.3407 - accuracy: 0.8652\n",
      "Epoch 10/50\n",
      "250/250 [==============================] - 0s 715us/step - loss: 0.3363 - accuracy: 0.8616\n",
      "Epoch 11/50\n",
      "250/250 [==============================] - 0s 851us/step - loss: 0.3363 - accuracy: 0.8593\n",
      "Epoch 12/50\n",
      "250/250 [==============================] - 0s 887us/step - loss: 0.3399 - accuracy: 0.8573\n",
      "Epoch 13/50\n",
      "250/250 [==============================] - 0s 918us/step - loss: 0.3295 - accuracy: 0.8659\n",
      "Epoch 14/50\n",
      "250/250 [==============================] - 0s 828us/step - loss: 0.3305 - accuracy: 0.8626\n",
      "Epoch 15/50\n",
      "250/250 [==============================] - 0s 817us/step - loss: 0.3232 - accuracy: 0.8660\n",
      "Epoch 16/50\n",
      "250/250 [==============================] - 0s 839us/step - loss: 0.3264 - accuracy: 0.8683\n",
      "Epoch 17/50\n",
      "250/250 [==============================] - 0s 804us/step - loss: 0.3134 - accuracy: 0.8728\n",
      "Epoch 18/50\n",
      "250/250 [==============================] - 0s 731us/step - loss: 0.3159 - accuracy: 0.8700\n",
      "Epoch 19/50\n",
      "250/250 [==============================] - 0s 926us/step - loss: 0.3233 - accuracy: 0.8679\n",
      "Epoch 20/50\n",
      "250/250 [==============================] - 0s 752us/step - loss: 0.3098 - accuracy: 0.8762\n",
      "Epoch 21/50\n",
      "250/250 [==============================] - 0s 775us/step - loss: 0.3162 - accuracy: 0.8693\n",
      "Epoch 22/50\n",
      "250/250 [==============================] - 0s 907us/step - loss: 0.3284 - accuracy: 0.8629\n",
      "Epoch 23/50\n",
      "250/250 [==============================] - 0s 891us/step - loss: 0.3283 - accuracy: 0.8594\n",
      "Epoch 24/50\n",
      "250/250 [==============================] - 0s 845us/step - loss: 0.3154 - accuracy: 0.8713\n",
      "Epoch 25/50\n",
      "250/250 [==============================] - 0s 739us/step - loss: 0.3215 - accuracy: 0.8665\n",
      "Epoch 26/50\n",
      "250/250 [==============================] - 0s 827us/step - loss: 0.3104 - accuracy: 0.8716\n",
      "Epoch 27/50\n",
      "250/250 [==============================] - 0s 803us/step - loss: 0.3187 - accuracy: 0.8676\n",
      "Epoch 28/50\n",
      "250/250 [==============================] - 0s 763us/step - loss: 0.3160 - accuracy: 0.8683\n",
      "Epoch 29/50\n",
      "250/250 [==============================] - 0s 854us/step - loss: 0.3217 - accuracy: 0.8677\n",
      "Epoch 30/50\n",
      "250/250 [==============================] - 0s 775us/step - loss: 0.3094 - accuracy: 0.8729\n",
      "Epoch 31/50\n",
      "250/250 [==============================] - 0s 799us/step - loss: 0.3082 - accuracy: 0.8746\n",
      "Epoch 32/50\n",
      "250/250 [==============================] - 0s 936us/step - loss: 0.3206 - accuracy: 0.8655\n",
      "Epoch 33/50\n",
      "250/250 [==============================] - 0s 817us/step - loss: 0.3094 - accuracy: 0.8703\n",
      "Epoch 34/50\n",
      "250/250 [==============================] - 0s 700us/step - loss: 0.3076 - accuracy: 0.8728\n",
      "Epoch 35/50\n",
      "250/250 [==============================] - 0s 697us/step - loss: 0.3077 - accuracy: 0.8724\n",
      "Epoch 36/50\n",
      "250/250 [==============================] - 0s 708us/step - loss: 0.3087 - accuracy: 0.8732\n",
      "Epoch 37/50\n",
      "250/250 [==============================] - 0s 672us/step - loss: 0.2986 - accuracy: 0.8723\n",
      "Epoch 38/50\n",
      "250/250 [==============================] - 0s 683us/step - loss: 0.3022 - accuracy: 0.8737\n",
      "Epoch 39/50\n",
      "250/250 [==============================] - 0s 780us/step - loss: 0.3067 - accuracy: 0.8765\n",
      "Epoch 40/50\n",
      "250/250 [==============================] - 0s 775us/step - loss: 0.3110 - accuracy: 0.8770\n",
      "Epoch 41/50\n",
      "250/250 [==============================] - 0s 739us/step - loss: 0.3186 - accuracy: 0.8706\n",
      "Epoch 42/50\n",
      "250/250 [==============================] - 0s 832us/step - loss: 0.3033 - accuracy: 0.8706\n",
      "Epoch 43/50\n",
      "250/250 [==============================] - 0s 882us/step - loss: 0.2915 - accuracy: 0.8781\n",
      "Epoch 44/50\n",
      "250/250 [==============================] - 0s 880us/step - loss: 0.2994 - accuracy: 0.8788\n",
      "Epoch 45/50\n",
      "250/250 [==============================] - 0s 1ms/step - loss: 0.2939 - accuracy: 0.8808\n",
      "Epoch 46/50\n",
      "250/250 [==============================] - 0s 2ms/step - loss: 0.2992 - accuracy: 0.8756\n",
      "Epoch 47/50\n",
      "250/250 [==============================] - 0s 943us/step - loss: 0.3007 - accuracy: 0.8737\n",
      "Epoch 48/50\n",
      "250/250 [==============================] - 0s 722us/step - loss: 0.3000 - accuracy: 0.8736\n",
      "Epoch 49/50\n",
      "250/250 [==============================] - 0s 744us/step - loss: 0.2981 - accuracy: 0.8776\n",
      "Epoch 50/50\n",
      "250/250 [==============================] - 0s 771us/step - loss: 0.3013 - accuracy: 0.8722\n"
     ]
    }
   ],
   "source": [
    "history = ann.fit(X_train_scaled, y_train, batch_size=32, epochs=50)"
   ]
  },
  {
   "cell_type": "code",
   "execution_count": 19,
   "metadata": {},
   "outputs": [
    {
     "name": "stdout",
     "output_type": "stream",
     "text": [
      "Model: \"sequential\"\n",
      "_________________________________________________________________\n",
      "Layer (type)                 Output Shape              Param #   \n",
      "=================================================================\n",
      "dense (Dense)                (32, 32)                  416       \n",
      "_________________________________________________________________\n",
      "dense_1 (Dense)              (32, 32)                  1056      \n",
      "_________________________________________________________________\n",
      "dense_2 (Dense)              (32, 1)                   33        \n",
      "=================================================================\n",
      "Total params: 1,505\n",
      "Trainable params: 1,505\n",
      "Non-trainable params: 0\n",
      "_________________________________________________________________\n"
     ]
    }
   ],
   "source": [
    "ann.summary()"
   ]
  },
  {
   "cell_type": "code",
   "execution_count": 20,
   "metadata": {},
   "outputs": [],
   "source": [
    "import matplotlib.pyplot as plt\n",
    "%matplotlib inline"
   ]
  },
  {
   "cell_type": "code",
   "execution_count": 21,
   "metadata": {},
   "outputs": [
    {
     "name": "stdout",
     "output_type": "stream",
     "text": [
      "dict_keys(['loss', 'accuracy'])\n"
     ]
    }
   ],
   "source": [
    "print(history.history.keys())"
   ]
  },
  {
   "cell_type": "code",
   "execution_count": 22,
   "metadata": {},
   "outputs": [
    {
     "data": {
      "image/png": "[encoded data removed]",
      "text/plain": [
       "<Figure size 864x576 with 1 Axes>"
      ]
     },
     "metadata": {
      "needs_background": "light"
     },
     "output_type": "display_data"
    }
   ],
   "source": [
    "plt.figure(figsize=(12,8))\n",
    "plt.gca().set_facecolor('k')\n",
    "plt.plot(history.history['loss'], 'o-', color='red', label='loss')\n",
    "plt.plot(history.history['accuracy'], 'o-', color='green', label='accuracy')\n",
    "plt.xlabel('epoch', fontsize=20)\n",
    "plt.ylabel('loss', fontsize=20)\n",
    "plt.yticks(fontsize=16)\n",
    "plt.xticks(fontsize=16)\n",
    "plt.legend();"
   ]
  },
  {
   "cell_type": "code",
   "execution_count": 23,
   "metadata": {},
   "outputs": [
    {
     "name": "stdout",
     "output_type": "stream",
     "text": [
      "[[0 0]\n",
      " [0 1]\n",
      " [0 0]\n",
      " ...\n",
      " [0 0]\n",
      " [0 0]\n",
      " [0 0]]\n"
     ]
    }
   ],
   "source": [
    "y_pred = ann.predict(X_test_scaled)\n",
    "y_pred = (y_pred > 0.5)\n",
    "print(np.concatenate((y_pred.reshape(len(y_pred),1), y_test.reshape(len(y_test),1)), 1))"
   ]
  },
  {
   "cell_type": "code",
   "execution_count": 24,
   "metadata": {},
   "outputs": [],
   "source": [
    "import seaborn as sns\n",
    "from sklearn.metrics import confusion_matrix, accuracy_score"
   ]
  },
  {
   "cell_type": "code",
   "execution_count": 25,
   "metadata": {},
   "outputs": [
    {
     "name": "stdout",
     "output_type": "stream",
     "text": [
      "Testing Accuracy: 0.854\n"
     ]
    },
    {
     "data": {
      "image/png": "[encoded data removed]",
      "text/plain": [
       "<Figure size 432x288 with 2 Axes>"
      ]
     },
     "metadata": {
      "needs_background": "light"
     },
     "output_type": "display_data"
    }
   ],
   "source": [
    "cm = confusion_matrix(y_test, y_pred)\n",
    "sns.heatmap(cm, cmap='viridis', annot=True, fmt='d')\n",
    "print(\"Testing Accuracy:\", accuracy_score(y_test, y_pred))"
   ]
  }
 ],
 "metadata": {
  "kernelspec": {
   "display_name": "Python 3",
   "language": "python",
   "name": "python3"
  },
  "language_info": {
   "codemirror_mode": {
    "name": "ipython",
    "version": 3
   },
   "file_extension": ".py",
   "mimetype": "text/x-python",
   "name": "python",
   "nbconvert_exporter": "python",
   "pygments_lexer": "ipython3",
   "version": "3.8.6"
  }
 },
 "nbformat": 4,
 "nbformat_minor": 4
}
