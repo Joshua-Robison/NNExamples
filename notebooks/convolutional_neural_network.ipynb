{
 "cells": [
  {
   "cell_type": "code",
   "execution_count": 1,
   "metadata": {},
   "outputs": [],
   "source": [
    "import tensorflow as tf\n",
    "from keras.preprocessing.image import ImageDataGenerator"
   ]
  },
  {
   "cell_type": "code",
   "execution_count": 2,
   "metadata": {},
   "outputs": [],
   "source": [
    "train_datagen = ImageDataGenerator(\n",
    "    rescale=1./255,\n",
    "    shear_range=0.2,\n",
    "    zoom_range=0.2,\n",
    "    horizontal_flip=True\n",
    ")"
   ]
  },
  {
   "cell_type": "code",
   "execution_count": 3,
   "metadata": {},
   "outputs": [
    {
     "name": "stdout",
     "output_type": "stream",
     "text": [
      "Found 8000 images belonging to 2 classes.\n"
     ]
    }
   ],
   "source": [
    "train_generator = train_datagen.flow_from_directory(\n",
    "    'data/training_set/',\n",
    "    target_size=(64, 64),\n",
    "    batch_size=64,\n",
    "    class_mode='binary'\n",
    ")"
   ]
  },
  {
   "cell_type": "code",
   "execution_count": 4,
   "metadata": {},
   "outputs": [
    {
     "name": "stdout",
     "output_type": "stream",
     "text": [
      "Found 2000 images belonging to 2 classes.\n"
     ]
    }
   ],
   "source": [
    "test_datagen = ImageDataGenerator(rescale=1./255)\n",
    "test_generator = test_datagen.flow_from_directory(\n",
    "    'data/test_set/',\n",
    "    target_size=(64, 64),\n",
    "    batch_size=64,\n",
    "    class_mode='binary'\n",
    ")"
   ]
  },
  {
   "cell_type": "code",
   "execution_count": 5,
   "metadata": {},
   "outputs": [],
   "source": [
    "from keras.models import Sequential\n",
    "from keras.layers import Dense, Conv2D, MaxPool2D, Flatten"
   ]
  },
  {
   "cell_type": "code",
   "execution_count": 6,
   "metadata": {},
   "outputs": [],
   "source": [
    "cnn = Sequential()\n",
    "cnn.add(Conv2D(filters=32, input_shape=[64, 64, 3], kernel_size=3, activation='relu'))\n",
    "cnn.add(MaxPool2D(pool_size=2, strides=2))\n",
    "cnn.add(Conv2D(filters=32, kernel_size=3, activation='relu'))\n",
    "cnn.add(MaxPool2D(pool_size=2, strides=2))\n",
    "cnn.add(Flatten())\n",
    "cnn.add(Dense(units=128, activation='relu'))\n",
    "cnn.add(Dense(units=1, activation='sigmoid'))"
   ]
  },
  {
   "cell_type": "code",
   "execution_count": 7,
   "metadata": {},
   "outputs": [],
   "source": [
    "cnn.compile(optimizer='adam', loss='binary_crossentropy', metrics=['accuracy'])"
   ]
  },
  {
   "cell_type": "code",
   "execution_count": 8,
   "metadata": {},
   "outputs": [
    {
     "name": "stdout",
     "output_type": "stream",
     "text": [
      "Epoch 1/20\n",
      "125/125 [==============================] - 68s 544ms/step - loss: 0.6767 - accuracy: 0.5580 - val_loss: 0.6020 - val_accuracy: 0.6735\n",
      "Epoch 2/20\n",
      "125/125 [==============================] - 27s 218ms/step - loss: 0.5918 - accuracy: 0.6791 - val_loss: 0.5550 - val_accuracy: 0.7245\n",
      "Epoch 3/20\n",
      "125/125 [==============================] - 28s 221ms/step - loss: 0.5403 - accuracy: 0.7260 - val_loss: 0.5046 - val_accuracy: 0.7540\n",
      "Epoch 4/20\n",
      "125/125 [==============================] - 30s 241ms/step - loss: 0.5053 - accuracy: 0.7469 - val_loss: 0.4965 - val_accuracy: 0.7605\n",
      "Epoch 5/20\n",
      "125/125 [==============================] - 30s 238ms/step - loss: 0.4962 - accuracy: 0.7605 - val_loss: 0.4896 - val_accuracy: 0.7770\n",
      "Epoch 6/20\n",
      "125/125 [==============================] - 31s 245ms/step - loss: 0.4833 - accuracy: 0.7632 - val_loss: 0.5456 - val_accuracy: 0.7265\n",
      "Epoch 7/20\n",
      "125/125 [==============================] - 31s 248ms/step - loss: 0.4622 - accuracy: 0.7801 - val_loss: 0.5558 - val_accuracy: 0.7410\n",
      "Epoch 8/20\n",
      "125/125 [==============================] - 31s 248ms/step - loss: 0.4526 - accuracy: 0.7874 - val_loss: 0.4680 - val_accuracy: 0.7820\n",
      "Epoch 9/20\n",
      "125/125 [==============================] - 30s 241ms/step - loss: 0.4341 - accuracy: 0.7946 - val_loss: 0.5866 - val_accuracy: 0.7285\n",
      "Epoch 10/20\n",
      "125/125 [==============================] - 31s 246ms/step - loss: 0.4258 - accuracy: 0.7994 - val_loss: 0.5132 - val_accuracy: 0.7705\n",
      "Epoch 11/20\n",
      "125/125 [==============================] - 30s 243ms/step - loss: 0.4449 - accuracy: 0.7882 - val_loss: 0.4720 - val_accuracy: 0.7990\n",
      "Epoch 12/20\n",
      "125/125 [==============================] - 29s 236ms/step - loss: 0.4115 - accuracy: 0.8108 - val_loss: 0.5511 - val_accuracy: 0.7625\n",
      "Epoch 13/20\n",
      "125/125 [==============================] - 29s 236ms/step - loss: 0.4212 - accuracy: 0.7976 - val_loss: 0.4582 - val_accuracy: 0.7900\n",
      "Epoch 14/20\n",
      "125/125 [==============================] - 30s 241ms/step - loss: 0.3850 - accuracy: 0.8248 - val_loss: 0.4473 - val_accuracy: 0.7955\n",
      "Epoch 15/20\n",
      "125/125 [==============================] - 30s 243ms/step - loss: 0.3730 - accuracy: 0.8246 - val_loss: 0.4498 - val_accuracy: 0.8010\n",
      "Epoch 16/20\n",
      "125/125 [==============================] - 29s 234ms/step - loss: 0.3649 - accuracy: 0.8326 - val_loss: 0.6149 - val_accuracy: 0.7435\n",
      "Epoch 17/20\n",
      "125/125 [==============================] - 29s 234ms/step - loss: 0.3561 - accuracy: 0.8403 - val_loss: 0.4646 - val_accuracy: 0.8010\n",
      "Epoch 18/20\n",
      "125/125 [==============================] - 30s 238ms/step - loss: 0.3471 - accuracy: 0.8483 - val_loss: 0.4684 - val_accuracy: 0.7855\n",
      "Epoch 19/20\n",
      "125/125 [==============================] - 30s 240ms/step - loss: 0.3554 - accuracy: 0.8443 - val_loss: 0.4926 - val_accuracy: 0.7785\n",
      "Epoch 20/20\n",
      "125/125 [==============================] - 29s 235ms/step - loss: 0.3561 - accuracy: 0.8365 - val_loss: 0.4715 - val_accuracy: 0.7945\n"
     ]
    }
   ],
   "source": [
    "history = cnn.fit(x=train_generator, validation_data=test_generator, epochs=20)"
   ]
  },
  {
   "cell_type": "code",
   "execution_count": 9,
   "metadata": {},
   "outputs": [
    {
     "name": "stdout",
     "output_type": "stream",
     "text": [
      "Model: \"sequential\"\n",
      "_________________________________________________________________\n",
      "Layer (type)                 Output Shape              Param #   \n",
      "=================================================================\n",
      "conv2d (Conv2D)              (None, 62, 62, 32)        896       \n",
      "_________________________________________________________________\n",
      "max_pooling2d (MaxPooling2D) (None, 31, 31, 32)        0         \n",
      "_________________________________________________________________\n",
      "conv2d_1 (Conv2D)            (None, 29, 29, 32)        9248      \n",
      "_________________________________________________________________\n",
      "max_pooling2d_1 (MaxPooling2 (None, 14, 14, 32)        0         \n",
      "_________________________________________________________________\n",
      "flatten (Flatten)            (None, 6272)              0         \n",
      "_________________________________________________________________\n",
      "dense (Dense)                (None, 128)               802944    \n",
      "_________________________________________________________________\n",
      "dense_1 (Dense)              (None, 1)                 129       \n",
      "=================================================================\n",
      "Total params: 813,217\n",
      "Trainable params: 813,217\n",
      "Non-trainable params: 0\n",
      "_________________________________________________________________\n"
     ]
    }
   ],
   "source": [
    "cnn.summary()"
   ]
  },
  {
   "cell_type": "code",
   "execution_count": 10,
   "metadata": {},
   "outputs": [],
   "source": [
    "import matplotlib.pyplot as plt\n",
    "%matplotlib inline"
   ]
  },
  {
   "cell_type": "code",
   "execution_count": 11,
   "metadata": {},
   "outputs": [
    {
     "data": {
      "image/png": "[encoded data removed]",
      "text/plain": [
       "<Figure size 864x576 with 1 Axes>"
      ]
     },
     "metadata": {
      "needs_background": "light"
     },
     "output_type": "display_data"
    }
   ],
   "source": [
    "plt.figure(figsize=(12,8))\n",
    "plt.gca().set_facecolor('k')\n",
    "plt.plot(history.history['loss'], 'o-', color='red', label='loss')\n",
    "plt.plot(history.history['accuracy'], 'o-', color='green', label='accuracy')\n",
    "plt.xlabel('epoch', fontsize=20)\n",
    "plt.ylabel('loss', fontsize=20)\n",
    "plt.yticks(fontsize=16)\n",
    "plt.xticks(fontsize=16)\n",
    "plt.legend();"
   ]
  },
  {
   "cell_type": "code",
   "execution_count": 12,
   "metadata": {},
   "outputs": [],
   "source": [
    "import numpy as np\n",
    "from keras.preprocessing import image"
   ]
  },
  {
   "cell_type": "code",
   "execution_count": 13,
   "metadata": {},
   "outputs": [
    {
     "name": "stdout",
     "output_type": "stream",
     "text": [
      "{'cats': 0, 'dogs': 1}\n"
     ]
    }
   ],
   "source": [
    "print(train_generator.class_indices)"
   ]
  },
  {
   "cell_type": "code",
   "execution_count": 14,
   "metadata": {},
   "outputs": [
    {
     "name": "stdout",
     "output_type": "stream",
     "text": [
      "[[1.]]\n"
     ]
    }
   ],
   "source": [
    "test_image = image.load_img('data/single_prediction/cat_or_dog_1.jpg', target_size=(64, 64))\n",
    "test_image = image.img_to_array(test_image)\n",
    "test_image = np.expand_dims(test_image, axis=0)\n",
    "result = cnn.predict(test_image)\n",
    "print(result)"
   ]
  }
 ],
 "metadata": {
  "kernelspec": {
   "display_name": "Python 3",
   "language": "python",
   "name": "python3"
  },
  "language_info": {
   "codemirror_mode": {
    "name": "ipython",
    "version": 3
   },
   "file_extension": ".py",
   "mimetype": "text/x-python",
   "name": "python",
   "nbconvert_exporter": "python",
   "pygments_lexer": "ipython3",
   "version": "3.8.6"
  }
 },
 "nbformat": 4,
 "nbformat_minor": 4
}
