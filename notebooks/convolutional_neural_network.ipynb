{
 "cells": [
  {
   "cell_type": "code",
   "execution_count": 1,
   "metadata": {},
   "outputs": [],
   "source": [
    "import tensorflow as tf\n",
    "from keras.preprocessing.image import ImageDataGenerator"
   ]
  },
  {
   "cell_type": "code",
   "execution_count": 2,
   "metadata": {},
   "outputs": [],
   "source": [
    "train_datagen = ImageDataGenerator(\n",
    "    rescale=1.0 / 255, shear_range=0.2, zoom_range=0.2, horizontal_flip=True\n",
    ")"
   ]
  },
  {
   "cell_type": "code",
   "execution_count": 3,
   "metadata": {},
   "outputs": [
    {
     "name": "stdout",
     "output_type": "stream",
     "text": [
      "Found 8000 images belonging to 2 classes.\n"
     ]
    }
   ],
   "source": [
    "train_generator = train_datagen.flow_from_directory(\n",
    "    \"../data/training_set/\", target_size=(64, 64), batch_size=64, class_mode=\"binary\"\n",
    ")"
   ]
  },
  {
   "cell_type": "code",
   "execution_count": 4,
   "metadata": {},
   "outputs": [
    {
     "name": "stdout",
     "output_type": "stream",
     "text": [
      "Found 2000 images belonging to 2 classes.\n"
     ]
    }
   ],
   "source": [
    "test_datagen = ImageDataGenerator(rescale=1.0 / 255)\n",
    "test_generator = test_datagen.flow_from_directory(\n",
    "    \"../data/test_set/\", target_size=(64, 64), batch_size=64, class_mode=\"binary\"\n",
    ")"
   ]
  },
  {
   "cell_type": "code",
   "execution_count": 5,
   "metadata": {},
   "outputs": [],
   "source": [
    "from keras.models import Sequential\n",
    "from keras.layers import Dense, Conv2D, MaxPool2D, Flatten"
   ]
  },
  {
   "cell_type": "code",
   "execution_count": 6,
   "metadata": {},
   "outputs": [],
   "source": [
    "cnn = Sequential()\n",
    "cnn.add(Conv2D(filters=32, input_shape=[64, 64, 3], kernel_size=3, activation=\"relu\"))\n",
    "cnn.add(MaxPool2D(pool_size=2, strides=2))\n",
    "cnn.add(Conv2D(filters=32, kernel_size=3, activation=\"relu\"))\n",
    "cnn.add(MaxPool2D(pool_size=2, strides=2))\n",
    "cnn.add(Flatten())\n",
    "cnn.add(Dense(units=128, activation=\"relu\"))\n",
    "cnn.add(Dense(units=1, activation=\"sigmoid\"))"
   ]
  },
  {
   "cell_type": "code",
   "execution_count": 7,
   "metadata": {},
   "outputs": [],
   "source": [
    "cnn.compile(optimizer=\"adam\", loss=\"binary_crossentropy\", metrics=[\"accuracy\"])"
   ]
  },
  {
   "cell_type": "code",
   "execution_count": 8,
   "metadata": {},
   "outputs": [
    {
     "name": "stdout",
     "output_type": "stream",
     "text": [
      "Epoch 1/20\n",
      "125/125 [==============================] - 42s 216ms/step - loss: 0.6895 - accuracy: 0.5327 - val_loss: 0.7236 - val_accuracy: 0.5550\n",
      "Epoch 2/20\n",
      "125/125 [==============================] - 27s 214ms/step - loss: 0.6081 - accuracy: 0.6796 - val_loss: 0.5590 - val_accuracy: 0.7280\n",
      "Epoch 3/20\n",
      "125/125 [==============================] - 32s 253ms/step - loss: 0.5633 - accuracy: 0.7062 - val_loss: 0.5191 - val_accuracy: 0.7485\n",
      "Epoch 4/20\n",
      "125/125 [==============================] - 34s 268ms/step - loss: 0.5388 - accuracy: 0.7331 - val_loss: 0.4975 - val_accuracy: 0.7675\n",
      "Epoch 5/20\n",
      "125/125 [==============================] - 29s 234ms/step - loss: 0.5058 - accuracy: 0.7494 - val_loss: 0.4969 - val_accuracy: 0.7595\n",
      "Epoch 6/20\n",
      "125/125 [==============================] - 31s 250ms/step - loss: 0.4951 - accuracy: 0.7550 - val_loss: 0.4861 - val_accuracy: 0.7765\n",
      "Epoch 7/20\n",
      "125/125 [==============================] - 32s 253ms/step - loss: 0.4710 - accuracy: 0.7722 - val_loss: 0.5047 - val_accuracy: 0.7725\n",
      "Epoch 8/20\n",
      "125/125 [==============================] - 31s 250ms/step - loss: 0.4626 - accuracy: 0.7816 - val_loss: 0.5187 - val_accuracy: 0.7560\n",
      "Epoch 9/20\n",
      "125/125 [==============================] - 31s 252ms/step - loss: 0.4512 - accuracy: 0.7882 - val_loss: 0.5433 - val_accuracy: 0.7590\n",
      "Epoch 10/20\n",
      "125/125 [==============================] - 31s 251ms/step - loss: 0.4440 - accuracy: 0.7965 - val_loss: 0.4630 - val_accuracy: 0.7850\n",
      "Epoch 11/20\n",
      "125/125 [==============================] - 31s 251ms/step - loss: 0.4341 - accuracy: 0.7953 - val_loss: 0.4786 - val_accuracy: 0.7840\n",
      "Epoch 12/20\n",
      "125/125 [==============================] - 31s 251ms/step - loss: 0.4173 - accuracy: 0.8072 - val_loss: 0.4555 - val_accuracy: 0.8035\n",
      "Epoch 13/20\n",
      "125/125 [==============================] - 31s 250ms/step - loss: 0.4027 - accuracy: 0.8125 - val_loss: 0.4395 - val_accuracy: 0.8015\n",
      "Epoch 14/20\n",
      "125/125 [==============================] - 31s 249ms/step - loss: 0.3971 - accuracy: 0.8186 - val_loss: 0.4674 - val_accuracy: 0.7955\n",
      "Epoch 15/20\n",
      "125/125 [==============================] - 31s 249ms/step - loss: 0.3896 - accuracy: 0.8171 - val_loss: 0.4387 - val_accuracy: 0.8045\n",
      "Epoch 16/20\n",
      "125/125 [==============================] - 31s 248ms/step - loss: 0.3739 - accuracy: 0.8376 - val_loss: 0.4785 - val_accuracy: 0.7880\n",
      "Epoch 17/20\n",
      "125/125 [==============================] - 31s 248ms/step - loss: 0.3587 - accuracy: 0.8380 - val_loss: 0.4275 - val_accuracy: 0.8185\n",
      "Epoch 18/20\n",
      "125/125 [==============================] - 31s 249ms/step - loss: 0.3721 - accuracy: 0.8332 - val_loss: 0.4447 - val_accuracy: 0.8100\n",
      "Epoch 19/20\n",
      "125/125 [==============================] - 31s 245ms/step - loss: 0.3693 - accuracy: 0.8358 - val_loss: 0.4443 - val_accuracy: 0.8060\n",
      "Epoch 20/20\n",
      "125/125 [==============================] - 31s 250ms/step - loss: 0.3556 - accuracy: 0.8449 - val_loss: 0.4332 - val_accuracy: 0.8150\n"
     ]
    }
   ],
   "source": [
    "history = cnn.fit(x=train_generator, validation_data=test_generator, epochs=20)"
   ]
  },
  {
   "cell_type": "code",
   "execution_count": 9,
   "metadata": {},
   "outputs": [
    {
     "name": "stdout",
     "output_type": "stream",
     "text": [
      "Model: \"sequential\"\n",
      "_________________________________________________________________\n",
      "Layer (type)                 Output Shape              Param #   \n",
      "=================================================================\n",
      "conv2d (Conv2D)              (None, 62, 62, 32)        896       \n",
      "_________________________________________________________________\n",
      "max_pooling2d (MaxPooling2D) (None, 31, 31, 32)        0         \n",
      "_________________________________________________________________\n",
      "conv2d_1 (Conv2D)            (None, 29, 29, 32)        9248      \n",
      "_________________________________________________________________\n",
      "max_pooling2d_1 (MaxPooling2 (None, 14, 14, 32)        0         \n",
      "_________________________________________________________________\n",
      "flatten (Flatten)            (None, 6272)              0         \n",
      "_________________________________________________________________\n",
      "dense (Dense)                (None, 128)               802944    \n",
      "_________________________________________________________________\n",
      "dense_1 (Dense)              (None, 1)                 129       \n",
      "=================================================================\n",
      "Total params: 813,217\n",
      "Trainable params: 813,217\n",
      "Non-trainable params: 0\n",
      "_________________________________________________________________\n"
     ]
    }
   ],
   "source": [
    "cnn.summary()"
   ]
  },
  {
   "cell_type": "code",
   "execution_count": 10,
   "metadata": {},
   "outputs": [],
   "source": [
    "import matplotlib.pyplot as plt\n",
    "\n",
    "%matplotlib inline"
   ]
  },
  {
   "cell_type": "code",
   "execution_count": 11,
   "metadata": {},
   "outputs": [
    {
     "data": {
      "image/png": "[encoded data removed]",
      "text/plain": [
       "<Figure size 864x576 with 1 Axes>"
      ]
     },
     "metadata": {
      "needs_background": "light"
     },
     "output_type": "display_data"
    }
   ],
   "source": [
    "plt.figure(figsize=(12, 8))\n",
    "plt.gca().set_facecolor(\"k\")\n",
    "plt.plot(history.history[\"loss\"], \"o-\", color=\"red\", label=\"loss\")\n",
    "plt.plot(history.history[\"accuracy\"], \"o-\", color=\"green\", label=\"accuracy\")\n",
    "plt.xlabel(\"epoch\", fontsize=20)\n",
    "plt.ylabel(\"loss\", fontsize=20)\n",
    "plt.yticks(fontsize=16)\n",
    "plt.xticks(fontsize=16)\n",
    "plt.legend();"
   ]
  },
  {
   "cell_type": "code",
   "execution_count": 12,
   "metadata": {},
   "outputs": [],
   "source": [
    "import numpy as np\n",
    "from keras.preprocessing import image"
   ]
  },
  {
   "cell_type": "code",
   "execution_count": 13,
   "metadata": {},
   "outputs": [
    {
     "name": "stdout",
     "output_type": "stream",
     "text": [
      "{'cats': 0, 'dogs': 1}\n"
     ]
    }
   ],
   "source": [
    "print(train_generator.class_indices)"
   ]
  },
  {
   "cell_type": "code",
   "execution_count": 14,
   "metadata": {},
   "outputs": [
    {
     "name": "stdout",
     "output_type": "stream",
     "text": [
      "[[1.]]\n"
     ]
    }
   ],
   "source": [
    "test_image = image.load_img(\n",
    "    \"../data/single_prediction/cat_or_dog_1.jpg\", target_size=(64, 64)\n",
    ")\n",
    "test_image = image.img_to_array(test_image)\n",
    "test_image = np.expand_dims(test_image, axis=0)\n",
    "result = cnn.predict(test_image)\n",
    "print(result)"
   ]
  }
 ],
 "metadata": {
  "kernelspec": {
   "display_name": "Python 3 (ipykernel)",
   "language": "python",
   "name": "python3"
  },
  "language_info": {
   "codemirror_mode": {
    "name": "ipython",
    "version": 3
   },
   "file_extension": ".py",
   "mimetype": "text/x-python",
   "name": "python",
   "nbconvert_exporter": "python",
   "pygments_lexer": "ipython3",
   "version": "3.8.9"
  }
 },
 "nbformat": 4,
 "nbformat_minor": 4
}
